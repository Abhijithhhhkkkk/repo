{
 "cells": [
  {
   "cell_type": "markdown",
   "id": "ef7c6fff-453f-4ce5-a96e-5718cbe90f41",
   "metadata": {},
   "source": [
    "# Data Science Tools and Ecosystem"
   ]
  },
  {
   "cell_type": "markdown",
   "id": "1798e029-7c43-47c1-92ae-5738302808bf",
   "metadata": {},
   "source": [
    "# In this notebook, Data Science Tools and Ecosystem are summarized"
   ]
  },
  {
   "cell_type": "markdown",
   "id": "fac29548-4b1c-44a9-a45f-d288be78a902",
   "metadata": {},
   "source": [
    "**Objectives:**\n",
    "* some of the popular language that data scientists use\n",
    "* some of the commonly used libries by data scientists\n",
    "* Data Science Tools\n",
    "*  few examples of evaluating arithmetic expressions in Python"
   ]
  },
  {
   "cell_type": "markdown",
   "id": "7776abe0-d176-4219-b790-04bf3f9fbc5c",
   "metadata": {},
   "source": [
    "# Some of the popular languages that Data Scientists use are:\n",
    "  1. python\n",
    "  2. R\n",
    "  3. Sql"
   ]
  },
  {
   "cell_type": "markdown",
   "id": "900a3c3b-119f-4933-9bb6-79e6966632f4",
   "metadata": {},
   "source": [
    "# Some of the commonly used libraries  by Data Scientists include:\n",
    "1. matplotlib\n",
    "2. pandas\n",
    "3. numpy\n",
    "4. ggplot"
   ]
  },
  {
   "cell_type": "markdown",
   "id": "c961c09e-c42d-4004-983c-bf2c5f694fc0",
   "metadata": {},
   "source": [
    "|Data Science Tools|\n",
    "|------------------|\n",
    "|Rstudio|\n",
    "|Anaconda|\n",
    "| Jupyter|\n"
   ]
  },
  {
   "cell_type": "markdown",
   "id": "ef2d21be-48bb-4ac4-a3d5-62e49163b191",
   "metadata": {},
   "source": [
    "### Below are a few examples of evaluating arithmetic expressions in Python"
   ]
  },
  {
   "cell_type": "code",
   "execution_count": 7,
   "id": "c21204f0-b959-455d-88f3-255c09299287",
   "metadata": {},
   "outputs": [
    {
     "data": {
      "text/plain": [
       "17"
      ]
     },
     "execution_count": 7,
     "metadata": {},
     "output_type": "execute_result"
    }
   ],
   "source": [
    "# This a simple arithmetic expression to multiply then add integers\n",
    "(3*4)+5"
   ]
  },
  {
   "cell_type": "code",
   "execution_count": 5,
   "id": "5f541ed3-af55-452d-b5d7-788a5d1130cd",
   "metadata": {},
   "outputs": [
    {
     "data": {
      "text/plain": [
       "3.3333333333333335"
      ]
     },
     "execution_count": 5,
     "metadata": {},
     "output_type": "execute_result"
    }
   ],
   "source": [
    "# This will convert 200 minutes to hours by diving by 60.\n",
    "200/60"
   ]
  },
  {
   "cell_type": "markdown",
   "id": "93f6e434-cf76-4090-bc78-5df39062859a",
   "metadata": {},
   "source": [
    "## Author\n",
    "Abhijith.k"
   ]
  },
  {
   "cell_type": "code",
   "execution_count": null,
   "id": "9f51023a-ec36-4976-8452-13e43089b1f9",
   "metadata": {},
   "outputs": [],
   "source": []
  }
 ],
 "metadata": {
  "kernelspec": {
   "display_name": "Python 3 (ipykernel)",
   "language": "python",
   "name": "python3"
  },
  "language_info": {
   "codemirror_mode": {
    "name": "ipython",
    "version": 3
   },
   "file_extension": ".py",
   "mimetype": "text/x-python",
   "name": "python",
   "nbconvert_exporter": "python",
   "pygments_lexer": "ipython3",
   "version": "3.12.8"
  }
 },
 "nbformat": 4,
 "nbformat_minor": 5
}
